{
  "nbformat": 4,
  "nbformat_minor": 0,
  "metadata": {
    "colab": {
      "provenance": []
    },
    "kernelspec": {
      "name": "python3",
      "display_name": "Python 3"
    },
    "language_info": {
      "name": "python"
    }
  },
  "cells": [
    {
      "cell_type": "markdown",
      "source": [
        "#Запуск"
      ],
      "metadata": {
        "id": "2FgreZptjAxA"
      }
    },
    {
      "cell_type": "code",
      "source": [
        "from google.colab import drive\n",
        "drive.mount('/content/drive')"
      ],
      "metadata": {
        "colab": {
          "base_uri": "https://localhost:8080/"
        },
        "id": "RK2UWwweucXE",
        "outputId": "1bb2f241-7d69-4f88-d6b3-8fffe71ca1d0"
      },
      "execution_count": null,
      "outputs": [
        {
          "output_type": "stream",
          "name": "stdout",
          "text": [
            "Mounted at /content/drive\n"
          ]
        }
      ]
    },
    {
      "cell_type": "code",
      "source": [
        "!pip install vk_api"
      ],
      "metadata": {
        "colab": {
          "base_uri": "https://localhost:8080/"
        },
        "id": "Fy3jiLVAKd9t",
        "outputId": "d00dc4dd-aa8a-4719-c374-7f4051a4ca26"
      },
      "execution_count": null,
      "outputs": [
        {
          "output_type": "stream",
          "name": "stdout",
          "text": [
            "Looking in indexes: https://pypi.org/simple, https://us-python.pkg.dev/colab-wheels/public/simple/\n",
            "Collecting vk_api\n",
            "  Downloading vk_api-11.9.9-py3-none-any.whl (48 kB)\n",
            "\u001b[2K     \u001b[90m━━━━━━━━━━━━━━━━━━━━━━━━━━━━━━━━━━━━━━━━\u001b[0m \u001b[32m48.6/48.6 kB\u001b[0m \u001b[31m4.2 MB/s\u001b[0m eta \u001b[36m0:00:00\u001b[0m\n",
            "\u001b[?25hRequirement already satisfied: requests in /usr/local/lib/python3.9/dist-packages (from vk_api) (2.27.1)\n",
            "Requirement already satisfied: urllib3<1.27,>=1.21.1 in /usr/local/lib/python3.9/dist-packages (from requests->vk_api) (1.26.15)\n",
            "Requirement already satisfied: charset-normalizer~=2.0.0 in /usr/local/lib/python3.9/dist-packages (from requests->vk_api) (2.0.12)\n",
            "Requirement already satisfied: idna<4,>=2.5 in /usr/local/lib/python3.9/dist-packages (from requests->vk_api) (3.4)\n",
            "Requirement already satisfied: certifi>=2017.4.17 in /usr/local/lib/python3.9/dist-packages (from requests->vk_api) (2022.12.7)\n",
            "Installing collected packages: vk_api\n",
            "Successfully installed vk_api-11.9.9\n"
          ]
        }
      ]
    },
    {
      "cell_type": "code",
      "source": [
        "import json\n",
        "import vk_api\n",
        "import time\n",
        "import numpy as np\n",
        "import pandas as pd\n",
        "from collections import Counter\n",
        "import statistics as st"
      ],
      "metadata": {
        "id": "d4bH4yuDKM2h"
      },
      "execution_count": null,
      "outputs": []
    },
    {
      "cell_type": "code",
      "source": [
        "def captcha_handler(captcha):\n",
        "\n",
        "    key = input(\"Enter captcha code {0}: \".format(captcha.get_url())).strip()\n",
        "\n",
        "    # Повтор запроса с капчей\n",
        "    return captcha.try_again(key)\n",
        "\n",
        "#чтение файла с логином и паролем\n",
        "f = open(\"login.txt\", \"r\")\n",
        "\n",
        "#открытие сесси вк\n",
        "vk_session = vk_api.VkApi(f.readline(), f.readline(), captcha_handler=captcha_handler)\n",
        "vk_session.auth(token_only=True)\n",
        "vk = vk_session.get_api()"
      ],
      "metadata": {
        "id": "95IQkRMvD7QN"
      },
      "execution_count": null,
      "outputs": []
    },
    {
      "cell_type": "markdown",
      "source": [
        "#Тест"
      ],
      "metadata": {
        "id": "7GPo92uLjGex"
      }
    },
    {
      "cell_type": "code",
      "source": [
        "getFirst = vk.users.get(user_ids = '122257440,218911746', fields=\"counters\")\n",
        "\n",
        "getFirst\n",
        "\n",
        "# print(getFirst[0]['bdate'])\n",
        "# print(getFirst[0]['university'])\n",
        "# print(getFirst[0]['personal']['langs'])\n",
        "# print(getFirst[0]['city'])"
      ],
      "metadata": {
        "id": "4S4FqQmyXpD2"
      },
      "execution_count": null,
      "outputs": []
    },
    {
      "cell_type": "code",
      "source": [
        "getFirst = vk.friends.get(user_id = '218911746')\n",
        "getFirst['count']"
      ],
      "metadata": {
        "colab": {
          "base_uri": "https://localhost:8080/"
        },
        "id": "PIin8l5RYkDK",
        "outputId": "ee08dd8d-9a30-4db2-a8cd-06ab75be8df8"
      },
      "execution_count": null,
      "outputs": [
        {
          "output_type": "execute_result",
          "data": {
            "text/plain": [
              "119"
            ]
          },
          "metadata": {},
          "execution_count": 23
        }
      ]
    },
    {
      "cell_type": "code",
      "source": [
        "getFirst = vk.users.getSubscriptions(user_id = '218911746', extend=0)\n",
        "getFirst[\"groups\"][\"count\"]\n",
        "\n",
        "# string = \"\"\n",
        "# for i in range(min(20,len(getFirst[\"groups\"][\"items\"]))):   \n",
        "#   string += str(getFirst[\"groups\"][\"items\"][i]) + \",\"\n",
        "\n",
        "# string = string[:-1]\n",
        "# print(string) "
      ],
      "metadata": {
        "colab": {
          "base_uri": "https://localhost:8080/"
        },
        "id": "ZWuzbDuzfANz",
        "outputId": "ba0284b2-598d-4d40-f155-a083687dcda9"
      },
      "execution_count": null,
      "outputs": [
        {
          "output_type": "execute_result",
          "data": {
            "text/plain": [
              "28"
            ]
          },
          "metadata": {},
          "execution_count": 27
        }
      ]
    },
    {
      "cell_type": "code",
      "source": [
        "getFirstCom = vk.groups.getById(group_id = '139105204', fields='activity')\n",
        "getFirstCom[0][\"activity\"]"
      ],
      "metadata": {
        "id": "_Mu7HAl0Y6Rz",
        "colab": {
          "base_uri": "https://localhost:8080/",
          "height": 35
        },
        "outputId": "509089fd-4eb9-4e55-e0dd-128452ba8e71"
      },
      "execution_count": null,
      "outputs": [
        {
          "output_type": "execute_result",
          "data": {
            "text/plain": [
              "'Юмор'"
            ],
            "application/vnd.google.colaboratory.intrinsic+json": {
              "type": "string"
            }
          },
          "metadata": {},
          "execution_count": 28
        }
      ]
    },
    {
      "cell_type": "markdown",
      "source": [
        "# Обработка данных"
      ],
      "metadata": {
        "id": "Hvs5BPdZkmq4"
      }
    },
    {
      "cell_type": "code",
      "source": [
        "firstCom = 'miem_hse'\n",
        "secondCom = 'miemos'\n",
        "count = '1000'"
      ],
      "metadata": {
        "id": "nkvUZ4Yut1k5"
      },
      "execution_count": null,
      "outputs": []
    },
    {
      "cell_type": "code",
      "execution_count": null,
      "metadata": {
        "id": "XRPBMKScts8t"
      },
      "outputs": [],
      "source": [
        "#сбор id подписчиков и их друзей\n",
        "def collectingData(firstCom, secondCom, count, vk):\n",
        "\n",
        "\n",
        "    #сбор данных об участниках групп\n",
        "    getFirstCom = vk.groups.getMembers(group_id = firstCom, count = count, offset = '2000')\n",
        "    getSecondCom = vk.groups.getMembers(group_id = secondCom, count = count, offset = '100')\n",
        "\n",
        "    #поиск повторящихся пользователей пабликов\n",
        "    getCommon, getFirstCom, getSecondCom = searchCommon(getFirstCom[\"items\"], getSecondCom[\"items\"])\n",
        "        \n",
        "    dataFriends = {\n",
        "        firstCom : {},\n",
        "        secondCom : {}, \n",
        "        \"commonCom\" : {}\n",
        "    }\n",
        "\n",
        "    countFirst = 0\n",
        "    countSecond = 0\n",
        "    countCommon = 0\n",
        "   \n",
        "    time.sleep(3)\n",
        "\n",
        "    # данные о друзьях 1 паблика\n",
        "    for i in range(len(getFirstCom)):           \n",
        "        try:\n",
        "            getFriends = vk.friends.get(user_id = str(getFirstCom[i]))\n",
        "            g = {str(getFirstCom[i]): getFriends['items']}\n",
        "            dataFriends[firstCom].update(g)\n",
        "        except:\n",
        "            countFirst += 1\n",
        "    \n",
        "    time.sleep(3)\n",
        "\n",
        "    # данные о друзьях 2 паблика\n",
        "    for i in range(len(getSecondCom)):           \n",
        "        try:\n",
        "            getFriends = vk.friends.get(user_id = str(getSecondCom[i]))\n",
        "            g = {str(getSecondCom[i]): getFriends['items']}\n",
        "            dataFriends[secondCom].update(g)\n",
        "        except:\n",
        "            countSecond += 1\n",
        "   \n",
        "    time.sleep(3)\n",
        "\n",
        "    # данные о друзьях общего паблика\n",
        "    for i in range(len(getCommon)):           \n",
        "        try:\n",
        "            getFriends = vk.friends.get(user_id = str(getCommon[i]))\n",
        "            g = {str(getCommon[i]): getFriends['items']}\n",
        "            dataFriends[\"commonCom\"].update(g)\n",
        "        except:\n",
        "            countCommon += 1\n",
        "\n",
        "    with open('data_file.json', 'w') as outfile:\n",
        "        json.dump(dataFriends, outfile)\n",
        "    \n",
        "    return countFirst, countSecond, countCommon"
      ]
    },
    {
      "cell_type": "code",
      "source": [
        "def searchCommon(a, b):\n",
        "  res1 = []\n",
        "  res2 = []\n",
        "  common = []\n",
        "  for i in range(len(a)):\n",
        "      try: \n",
        "          b.index(a[i])\n",
        "          common.append(a[i])\n",
        "      except:\n",
        "          res1.append(a[i])  \n",
        "\n",
        "  for i in range(len(b)):\n",
        "      try: \n",
        "          a.index(b[i])\n",
        "      except:\n",
        "          res2.append(b[i])  \n",
        "   \n",
        "  return common, res1, res2"
      ],
      "metadata": {
        "id": "epdHVcBcpbfb"
      },
      "execution_count": null,
      "outputs": []
    },
    {
      "cell_type": "code",
      "source": [
        "#запуск сбора данных\n",
        "countFirst, countSecond, countCommon = collectingData(firstCom, secondCom, count, vk)\n",
        "print(countFirst, countSecond, countCommon)"
      ],
      "metadata": {
        "id": "5q1XyL-jK5-W"
      },
      "execution_count": null,
      "outputs": []
    },
    {
      "cell_type": "code",
      "source": [
        "# Матрица смежности\n",
        "def processingData(firstCom, secondCom):\n",
        "\n",
        "    #чтение файла json\n",
        "    with open(\"data_file(9).json\", \"r\") as infile:\n",
        "        data = infile.read()\n",
        "\n",
        "    dataFriends = json.loads(data)\n",
        "\n",
        "    #передеслакация \n",
        "    dl = []\n",
        "    for i in dataFriends[firstCom]:\n",
        "        if vk.groups.isMember(group_id = secondCom, user_id  = i ):\n",
        "            dataFriends[\"commonCom\"][i] = dataFriends[firstCom][i]\n",
        "            dl.append(i)\n",
        "    for i in dl:\n",
        "        dataFriends[firstCom].pop(i)\n",
        "    dl = []\n",
        "    for i in dataFriends[secondCom]:\n",
        "        if vk.groups.isMember(group_id = firstCom, user_id  = i ):\n",
        "            dataFriends[\"commonCom\"][i] = dataFriends[secondCom][i]\n",
        "            dl.append(i)\n",
        "    for i in dl:\n",
        "        dataFriends[secondCom].pop(i)\n",
        "\n",
        "    #определение длины каждого словаря\n",
        "    lenFirst = len(dataFriends[firstCom])\n",
        "    lenSecond = len(dataFriends[secondCom])\n",
        "    lenCommon = len(dataFriends[\"commonCom\"])\n",
        "    lenTotal = lenFirst + lenSecond + lenCommon + 2\n",
        "    rv = {}#rv - вектор смежности\n",
        "\n",
        "    #ids\n",
        "    idsFirst = [*dataFriends[firstCom]]\n",
        "    idsSecond = [*dataFriends[secondCom]]\n",
        "    idsCommon = [*dataFriends[\"commonCom\"]]\n",
        "    idsTotal = set([int(i) for i in idsFirst+idsSecond+idsCommon])\n",
        "\n",
        "    #соединение с сообществом\n",
        "    rv[firstCom] = [int(i) for i in idsFirst+idsCommon]\n",
        "    rv[secondCom] = [int(i) for i in idsSecond+idsCommon]\n",
        "    \n",
        "    #соединение друзей\n",
        "    ttl = dataFriends[firstCom]|dataFriends[secondCom]|dataFriends[\"commonCom\"]\n",
        "    for i in ttl:\n",
        "        rv[int(i)] = list(set(ttl[i]) & idsTotal)\n",
        "\n",
        "    #преобразование в матрицу\n",
        "    ks = list(rv.keys())\n",
        "    R = {}\n",
        "    for id in ks:\n",
        "        R[str(id)] = [str(id)] + [int(ks[j] in rv[id]) for j in range(len(ks))]\n",
        "    R = [[\"X\"]+list(R.keys())]+list(R.values())\n",
        "\n",
        "    return R ,lenTotal, lenFirst, lenCommon"
      ],
      "metadata": {
        "id": "pXaNQnWxkg6M"
      },
      "execution_count": null,
      "outputs": []
    },
    {
      "cell_type": "code",
      "source": [
        "R, lenTotal, lenFirst, lenCommon = processingData(firstCom, secondCom)\n",
        "df = pd.DataFrame(R)"
      ],
      "metadata": {
        "id": "hxI07zIKl9-t"
      },
      "execution_count": null,
      "outputs": []
    },
    {
      "cell_type": "code",
      "source": [
        "df.to_excel(r\"drive/MyDrive/Masters_dissertation/output/matrix2.xlsx\", index=False)\n",
        "df.to_excel(r\"matrix2.xlsx\", index=False)"
      ],
      "metadata": {
        "id": "As2E5wrTeCwy"
      },
      "execution_count": null,
      "outputs": []
    },
    {
      "cell_type": "code",
      "source": [
        "print(lenTotal)"
      ],
      "metadata": {
        "colab": {
          "base_uri": "https://localhost:8080/"
        },
        "id": "rjaBNyhekzsm",
        "outputId": "6545d114-3150-498a-8f12-b27f7036fc3b"
      },
      "execution_count": null,
      "outputs": [
        {
          "output_type": "stream",
          "name": "stdout",
          "text": [
            "1197\n"
          ]
        }
      ]
    },
    {
      "cell_type": "markdown",
      "source": [
        "#Статистика"
      ],
      "metadata": {
        "id": "546cdIZcNI40"
      }
    },
    {
      "cell_type": "code",
      "source": [
        "R = []\n",
        "excel_data = pd.read_excel('matrix.xlsx')\n",
        "data = pd.DataFrame(excel_data)"
      ],
      "metadata": {
        "id": "M5rhrNbTprWM"
      },
      "execution_count": null,
      "outputs": []
    },
    {
      "cell_type": "code",
      "source": [
        "lenTotal = 32"
      ],
      "metadata": {
        "id": "vfCB-noDdw2P"
      },
      "execution_count": null,
      "outputs": []
    },
    {
      "cell_type": "code",
      "source": [
        "index_name = []\n",
        "for i in range(lenTotal):\n",
        "  index_name.append(data.iloc[0][i+1])\n",
        "index_name"
      ],
      "metadata": {
        "id": "hNRR6MKvuHLn"
      },
      "execution_count": null,
      "outputs": []
    },
    {
      "cell_type": "code",
      "source": [
        "with open(\"data_with_distribution.json\", \"r\") as infile:\n",
        "        data_json = infile.read()\n",
        "data_json= json.loads(data_json)\n",
        "type(data_json)"
      ],
      "metadata": {
        "colab": {
          "base_uri": "https://localhost:8080/"
        },
        "id": "N5Q1GZfYxx1w",
        "outputId": "9987cd5e-b567-4761-a8d5-f5252e9bb643"
      },
      "execution_count": null,
      "outputs": [
        {
          "output_type": "execute_result",
          "data": {
            "text/plain": [
              "dict"
            ]
          },
          "metadata": {},
          "execution_count": 22
        }
      ]
    },
    {
      "cell_type": "code",
      "source": [
        "#Статистика для топологии сети\n",
        "Th = [0, 0]\n",
        "mem = [1, 1]\n",
        "disc = [1, 1]\n",
        "\n",
        "for i in range(len(index_name)):\n",
        "  for item in data_json:\n",
        "    if str(index_name[i]) in data_json[item].keys():\n",
        "      Th.append(data_json[item][str(index_name[i])][\"param\"][\"Th\"])\n",
        "      if data_json[item][str(index_name[i])][\"param\"][\"type\"] == \"аналитик\":\n",
        "        mem.append(3)\n",
        "        disc.append(0.7)\n",
        "      else:\n",
        "        mem.append(1)\n",
        "        disc.append(1)"
      ],
      "metadata": {
        "id": "Z2mMmwd0y7ef"
      },
      "execution_count": null,
      "outputs": []
    },
    {
      "cell_type": "code",
      "source": [
        "mem.pop(0)"
      ],
      "metadata": {
        "colab": {
          "base_uri": "https://localhost:8080/"
        },
        "id": "sWFf44bwQMY9",
        "outputId": "6942870e-1ba4-4cef-aa67-2cec64b8a9c3"
      },
      "execution_count": null,
      "outputs": [
        {
          "output_type": "execute_result",
          "data": {
            "text/plain": [
              "1"
            ]
          },
          "metadata": {},
          "execution_count": 42
        }
      ]
    },
    {
      "cell_type": "code",
      "source": [
        "with open(\"data_all.json\", \"r\") as infile:\n",
        "        data_json = infile.read()\n",
        "data_json= json.loads(data_json)\n",
        "type(data_json)\n",
        "\n",
        "#для тестовой выборки\n",
        "Th = []\n",
        "mem = []\n",
        "disc = []\n",
        "\n",
        "for item in data_json:\n",
        "  Th.append(data_json[item][\"param\"][\"Th\"])\n",
        "  if data_json[item][\"param\"][\"type\"] == \"аналитик\":\n",
        "    mem.append(3)\n",
        "    disc.append(0.7)\n",
        "  else:\n",
        "    mem.append(1)\n",
        "    disc.append(1)\n",
        "\n",
        "c = Counter(mem)\n",
        "c"
      ],
      "metadata": {
        "id": "-mRe1N2I5aQ2"
      },
      "execution_count": null,
      "outputs": []
    },
    {
      "cell_type": "code",
      "source": [
        "Th = []\n",
        "mem = []\n",
        "disc = []\n",
        "\n",
        "for pubItem in data_json:\n",
        "  for item in data_json[pubItem]:\n",
        "    Th.append(data_json[pubItem][item][\"param\"][\"Th\"])\n",
        "    if data_json[pubItem][item][\"param\"][\"type\"] == \"аналитик\":\n",
        "      mem.append(3)\n",
        "      disc.append(0.7)\n",
        "    else:\n",
        "      mem.append(1)\n",
        "      disc.append(1)"
      ],
      "metadata": {
        "id": "zcFpwfnnP5SX"
      },
      "execution_count": null,
      "outputs": []
    },
    {
      "cell_type": "code",
      "source": [
        "c = Counter(mem)\n",
        "c"
      ],
      "metadata": {
        "colab": {
          "base_uri": "https://localhost:8080/"
        },
        "id": "OOpL4xr8eRXj",
        "outputId": "d9395e64-027b-49e6-f55e-dccf2dc9d290"
      },
      "execution_count": null,
      "outputs": [
        {
          "output_type": "execute_result",
          "data": {
            "text/plain": [
              "Counter({1: 1080, 3: 110})"
            ]
          },
          "metadata": {},
          "execution_count": 24
        }
      ]
    },
    {
      "cell_type": "code",
      "source": [
        "print(\"mean: \",st.mean(Th))\n",
        "print(\"median: \",st.median(Th))\n",
        "print(\"median_low: \",st.median_low(Th))\n",
        "print(\"median_high: \",st.median_high(Th))\n",
        "print(\"median_grouped: \",st.median_grouped(Th))\n",
        "print(\"mode: \",st.mode(Th))\n",
        "print(\"Отрезок: [\",min(Th), \";\", max(Th), \"]\")"
      ],
      "metadata": {
        "colab": {
          "base_uri": "https://localhost:8080/"
        },
        "id": "Cq7mj6llWYkz",
        "outputId": "c8f0938c-9667-47f1-ae7c-e2f18a1545a7"
      },
      "execution_count": null,
      "outputs": [
        {
          "output_type": "stream",
          "name": "stdout",
          "text": [
            "mean:  0.8573522799160661\n",
            "median:  0.6239373991891539\n",
            "median_low:  0.6157635467980297\n",
            "median_high:  0.6321112515802781\n",
            "median_grouped:  0.13211125158027814\n",
            "mode:  0.23212627669452182\n",
            "Отрезок: [ 0.1868460388639761 ; 5.1020408163265305 ]\n"
          ]
        }
      ]
    },
    {
      "cell_type": "markdown",
      "source": [
        "#Словарь со списками, добавление параметров"
      ],
      "metadata": {
        "id": "5C7MszD0N10g"
      }
    },
    {
      "cell_type": "code",
      "source": [
        "with open(\"data_file(9).json\", \"r\") as infile:\n",
        "        data = infile.read()\n",
        "\n",
        "dataFriends = json.loads(data)"
      ],
      "metadata": {
        "id": "dFBRTVjyN417"
      },
      "execution_count": null,
      "outputs": []
    },
    {
      "cell_type": "code",
      "source": [
        "dataAll = {}\n",
        "f = 0\n",
        "for bigPub in dataFriends:\n",
        "    dataAll[bigPub] = {}\n",
        "    \n",
        "    for item in dataFriends[bigPub]:\n",
        "        # time.sleep(3)\n",
        "\n",
        "        try:\n",
        "            getUser_sub = vk.users.getSubscriptions(user_id = item, extend=0)\n",
        "        except:\n",
        "            continue\n",
        "\n",
        "        dataAll[bigPub][item] = {}\n",
        "        dataAll[bigPub][item][\"publics\"] = {}\n",
        "        # dataAll[bigPub][item][\"info\"] = {}\n",
        "\n",
        "        getUser_info = vk.users.get(user_id = item, fields=\"bdate, education, personal, city\")\n",
        "        getUser_friend = vk.friends.get(user_id = item)\n",
        "\n",
        "        dataAll[bigPub][item][\"info\"] = getUser_info[0]\n",
        "        dataAll[bigPub][item][\"info\"][\"count_friends\"] = getUser_friend[\"count\"]\n",
        "\n",
        "        grp_ids = \"\"\n",
        "\n",
        "        for i in range(min(20,len(getUser_sub[\"groups\"][\"items\"]))):   \n",
        "          grp_ids += str(getUser_sub[\"groups\"][\"items\"][i]) + \",\"\n",
        "\n",
        "        grp_ids = grp_ids[:-1]\n",
        "        \n",
        "        # try:\n",
        "        #   getCom = vk.groups.getById(group_ids = grp_ids, fields='activity')\n",
        "        # except:\n",
        "        #   getCom = \"\"\n",
        "\n",
        "        # for i in range(len(getCom)):\n",
        "        #   dataAll[bigPub][item][\"publics\"][getUser_sub[\"groups\"][\"items\"][i]] = getCom[i][\"activity\"]\n",
        "\n",
        "        try:\n",
        "          getCom = vk.groups.getById(group_ids = grp_ids, fields='activity')\n",
        "          for i in range(len(getCom)):\n",
        "            dataAll[bigPub][item][\"publics\"][getUser_sub[\"groups\"][\"items\"][i]] = getCom[i][\"activity\"]\n",
        "        except:\n",
        "          getCom = \"\"\n",
        "          for i in range(len(getCom)):\n",
        "              dataAll[bigPub][item][\"publics\"][getUser_sub[\"groups\"][\"items\"][i]] = \"Сайты\"\n",
        "\n",
        "        dataAll[bigPub][item][\"info\"][\"count_publics\"] = getUser_sub[\"groups\"][\"count\"]\n",
        "\n",
        "        dataAll[bigPub][item][\"friends\"] = dataFriends[bigPub][item]"
      ],
      "metadata": {
        "id": "Fl_y1S8RbLJP"
      },
      "execution_count": null,
      "outputs": []
    },
    {
      "cell_type": "code",
      "source": [
        "with open('data_all.json', 'w') as outfile:\n",
        "    json.dump(dataAll, outfile, ensure_ascii=False)\n",
        "\n",
        "with open(r\"drive/MyDrive/Masters_dissertation/output/data_all.json\", 'w') as outfile:\n",
        "    json.dump(dataAll, outfile, ensure_ascii=False)"
      ],
      "metadata": {
        "id": "HC3LhrDnSkuo"
      },
      "execution_count": null,
      "outputs": []
    },
    {
      "cell_type": "markdown",
      "source": [
        "##Определение типов\n",
        "Th = 100/(кол-во друзей х 0,6 + кол-во групп х 0,4)\n",
        "\n",
        "p = \n",
        "\n",
        "Определение аналитика и эмоционального. По кол-ву пабликов, порог 50%.\n"
      ],
      "metadata": {
        "id": "9s-1TsGeNDNk"
      }
    },
    {
      "cell_type": "code",
      "source": [
        "import datetime\n",
        "from datetime import date"
      ],
      "metadata": {
        "id": "7WjfnApOB6s2"
      },
      "execution_count": null,
      "outputs": []
    },
    {
      "cell_type": "code",
      "source": [
        "with open(\"data_all.json\", \"r\") as infile:\n",
        "        data = infile.read()\n",
        "\n",
        "dataAll = json.loads(data)"
      ],
      "metadata": {
        "id": "pr888_nsdQwT"
      },
      "execution_count": null,
      "outputs": []
    },
    {
      "cell_type": "code",
      "source": [
        "def qualimetric_indicator(age, langs, city, edu, pub):\n",
        "  \n",
        "  qi= 0\n",
        "\n",
        "  if age < 18: \n",
        "    qi += 0.05\n",
        "  elif age >= 18 and age < 25:\n",
        "    qi += 0.1\n",
        "  elif age >= 25 and age < 35:\n",
        "    qi += 0.15\n",
        "  elif age >= 35 and age < 50:\n",
        "    qi += 0.2\n",
        "  else:\n",
        "    qi += 0.25\n",
        "\n",
        "  if langs < 2:\n",
        "    qi +=0.05\n",
        "  elif langs == 2:\n",
        "    qi += 0.1\n",
        "  elif langs == 3:\n",
        "    qi += 0.15\n",
        "  else:\n",
        "    qi += 0.2\n",
        "\n",
        "  if city == 4:\n",
        "    qi +=0.4\n",
        "  elif city == 3:\n",
        "    qi +=0.3\n",
        "  elif city == 2:\n",
        "    qi +=0.2\n",
        "  else:\n",
        "    qi +=0.1\n",
        "\n",
        "  if edu == 3:\n",
        "    qi +=0.45\n",
        "  elif edu == 2:\n",
        "    qi +=0.3\n",
        "  else:\n",
        "    qi +=0.15\n",
        "\n",
        "  if pub < 20:\n",
        "    qi +=0.65\n",
        "  elif pub >=20 and pub < 40:\n",
        "    qi +=1.3\n",
        "  elif pub >=40 and pub < 65:\n",
        "    qi +=1.95\n",
        "  else:\n",
        "    qi +=2.6\n",
        "  \n",
        "  \n",
        "  return qi/3.9"
      ],
      "metadata": {
        "id": "1kp0J94Ganrt"
      },
      "execution_count": null,
      "outputs": []
    },
    {
      "cell_type": "code",
      "source": [
        "def pre_qualimetric(user_info, getCityBig, getUni_list, getType):\n",
        " \n",
        "  qi = 0\n",
        "  today = date.today()\n",
        "\n",
        "  if \"bdate\" in user_info[\"info\"]:\n",
        "    d = user_info[\"info\"][\"bdate\"].split(\".\")\n",
        "    if len(d) == 3:\n",
        "      age = today.year - int(d[2]) - ((today.month, today.day) < (int(d[1]), int(d[0])))\n",
        "    else:\n",
        "      age = 18\n",
        "  else:\n",
        "    age = 18\n",
        "\n",
        "  if \"langs\" in user_info[\"info\"]:\n",
        "    langs = len(user_info[\"info\"][\"langs\"])\n",
        "  else: \n",
        "    langs = 0\n",
        "\n",
        "  if \"city\" in user_info[\"info\"]:\n",
        "    if user_info[\"info\"][\"city\"][\"id\"] == 1 or user_info[\"info\"][\"city\"][\"id\"] == 2:\n",
        "      city = 4\n",
        "    elif user_info[\"info\"][\"city\"][\"id\"] in getCityBig[\"items\"][0].values():\n",
        "      city = 3\n",
        "    else: \n",
        "      city = 2\n",
        "  else:\n",
        "    city = 1\n",
        "    \n",
        "  if \"university\" in user_info[\"info\"]:\n",
        "    if user_info[\"info\"][\"university\"] in getUni_list:\n",
        "      edu = 3\n",
        "    else:\n",
        "      edu = 2\n",
        "  else:\n",
        "    edu = 1\n",
        "\n",
        "  pub = [0,0,0]\n",
        "  cnt = [0,0,0]\n",
        "\n",
        "  for i in user_info['publics']:\n",
        "\n",
        "      try:\n",
        "          cnt[int(getType[user_info['publics'][i]])]+=1\n",
        "      except KeyError:\n",
        "          cnt[1]+=1\n",
        "\n",
        "\n",
        "  for i in range(3):\n",
        "    try:\n",
        "      pub[i] = cnt[i]/sum(cnt)*100 \n",
        "    except ZeroDivisionError:\n",
        "      pub[i] = 0\n",
        "\n",
        "  qi = qualimetric_indicator(age, langs, city, edu, pub[2])\n",
        "\n",
        "  if qi < 0.8:\n",
        "    return \"эмоциональный\"\n",
        "  else:\n",
        "    return \"аналитик\""
      ],
      "metadata": {
        "id": "b_GVhUir-pEj"
      },
      "execution_count": null,
      "outputs": []
    },
    {
      "cell_type": "code",
      "source": [
        "getCityBig = vk.database.getCities(country_id=\"1\")\n",
        "\n",
        "getUni = []\n",
        "getUni1 = vk.database.getUniversities(city_id = \"1\")\n",
        "getUni2 = vk.database.getUniversities(city_id = \"2\")\n",
        "\n",
        "getUni.extend(getUni1[\"items\"])\n",
        "getUni.extend(getUni2[\"items\"])\n",
        "\n",
        "getUni_list = []\n",
        "\n",
        "for i in range(len(getUni)):\n",
        "\n",
        "  getUni_list.append(getUni[i][\"id\"])\n",
        "\n",
        "getUni_list = set(getUni_list)\n",
        "\n",
        "groups_types = pd.read_excel('drive/MyDrive/Masters_dissertation/input/groups_types.xlsx')\n",
        "\n",
        "getType = {}\n",
        "for i in range(len(groups_types[\"Type\"])):\n",
        "    getType[groups_types[\"Type\"][i]] = groups_types[\"Score\"][i]"
      ],
      "metadata": {
        "id": "F0ayU-BG2-1g"
      },
      "execution_count": null,
      "outputs": []
    },
    {
      "cell_type": "code",
      "source": [
        "for pubItem in dataAll:\n",
        "  for item in dataAll[pubItem]:\n",
        "\n",
        "    dataAll[pubItem][item][\"param\"] = {}\n",
        "\n",
        "    try:\n",
        "      dataAll[pubItem][item][\"param\"][\"Th\"] = 100/(0.6*dataAll[pubItem][item][\"info\"][\"count_friends\"] \\\n",
        "                                                 + 0.4*dataAll[pubItem][item][\"info\"][\"count_publics\"])\n",
        "    except:\n",
        "      dataAll[pubItem][item][\"param\"][\"Th\"] = 0\n",
        "    \n",
        "    dataAll[pubItem][item][\"param\"][\"type\"] = pre_qualimetric(dataAll[pubItem][item], getCityBig, getUni_list, getType)"
      ],
      "metadata": {
        "id": "XqA1waN-69xm"
      },
      "execution_count": null,
      "outputs": []
    },
    {
      "cell_type": "code",
      "source": [
        "with open('data_with_distribution.json', 'w') as outfile:\n",
        "    json.dump(dataAll, outfile, ensure_ascii=False)"
      ],
      "metadata": {
        "id": "zXIwVHVmhbeN"
      },
      "execution_count": null,
      "outputs": []
    },
    {
      "cell_type": "markdown",
      "source": [
        "# Сбор статистики случайных групп"
      ],
      "metadata": {
        "id": "geXCTyDrrBKK"
      }
    },
    {
      "cell_type": "code",
      "source": [
        "getFirstCom = vk.groups.getById(group_id = 'fuck_humor', fields='activity')\n",
        "getFirstCom[0][\"activity\"]"
      ],
      "metadata": {
        "colab": {
          "base_uri": "https://localhost:8080/",
          "height": 36
        },
        "id": "sZov-6Zbq6m0",
        "outputId": "cf2524a2-6446-45bd-a731-5b807670c779"
      },
      "execution_count": null,
      "outputs": [
        {
          "output_type": "execute_result",
          "data": {
            "text/plain": [
              "'Юмор'"
            ],
            "application/vnd.google.colaboratory.intrinsic+json": {
              "type": "string"
            }
          },
          "metadata": {},
          "execution_count": 45
        }
      ]
    },
    {
      "cell_type": "code",
      "source": [
        "def collectingData(community, count):\n",
        "  getFirstCom = vk.groups.getMembers(group_id = community, count = count, offset = '20000')\n",
        "\n",
        "  dataFriends = {}\n",
        "  countFirst = 0\n",
        "\n",
        "  for i in range(len(getFirstCom[\"items\"])):           \n",
        "    try:\n",
        "        getFriends = vk.friends.get(user_id = str(getFirstCom[\"items\"][i]))\n",
        "        g = {str(getFirstCom[\"items\"][i]): getFriends['items']}\n",
        "        dataFriends.update(g)\n",
        "    except:\n",
        "        countFirst += 1\n",
        "\n",
        "  with open('data_file.json', 'w') as outfile:\n",
        "        json.dump(dataFriends, outfile)\n",
        "\n",
        "collectingData(\"fuck_humor\", 200)"
      ],
      "metadata": {
        "id": "c4jpg2K9r8rM"
      },
      "execution_count": null,
      "outputs": []
    },
    {
      "cell_type": "code",
      "source": [
        "getCityBig = vk.database.getCities(country_id=\"1\")\n",
        "\n",
        "getUni = []\n",
        "getUni1 = vk.database.getUniversities(city_id = \"1\")\n",
        "getUni2 = vk.database.getUniversities(city_id = \"2\")\n",
        "\n",
        "getUni.extend(getUni1[\"items\"])\n",
        "getUni.extend(getUni2[\"items\"])\n",
        "\n",
        "getUni_list = []\n",
        "\n",
        "for i in range(len(getUni)):\n",
        "\n",
        "  getUni_list.append(getUni[i][\"id\"])\n",
        "\n",
        "getUni_list = set(getUni_list)\n",
        "\n",
        "groups_types = pd.read_excel('drive/MyDrive/Masters_dissertation/input/groups_types.xlsx')\n",
        "\n",
        "getType = {}\n",
        "for i in range(len(groups_types[\"Type\"])):\n",
        "    getType[groups_types[\"Type\"][i]] = groups_types[\"Score\"][i]"
      ],
      "metadata": {
        "id": "sHDWkVdjvmN_"
      },
      "execution_count": null,
      "outputs": []
    },
    {
      "cell_type": "code",
      "source": [
        "with open(\"data_file.json\", \"r\") as infile:\n",
        "        data = infile.read()\n",
        "\n",
        "dataFriends = json.loads(data)"
      ],
      "metadata": {
        "id": "DtcNEs8Tv5AJ"
      },
      "execution_count": null,
      "outputs": []
    },
    {
      "cell_type": "code",
      "source": [
        "len(dataFriends)"
      ],
      "metadata": {
        "colab": {
          "base_uri": "https://localhost:8080/"
        },
        "id": "OjTO4L68r_BM",
        "outputId": "4e0dea55-72d1-4661-fcec-979aba4c9a80"
      },
      "execution_count": null,
      "outputs": [
        {
          "output_type": "execute_result",
          "data": {
            "text/plain": [
              "128"
            ]
          },
          "metadata": {},
          "execution_count": 49
        }
      ]
    },
    {
      "cell_type": "code",
      "source": [
        "dataAll = {}\n",
        "f = 0\n",
        "\n",
        "dataAll = {}\n",
        "\n",
        "for item in dataFriends:\n",
        "  \n",
        "    try:\n",
        "        getUser_sub = vk.users.getSubscriptions(user_id = item, extend=0)\n",
        "    except:\n",
        "        continue\n",
        "\n",
        "    dataAll[item] = {}\n",
        "    dataAll[item][\"publics\"] = {}\n",
        "\n",
        "    getUser_info = vk.users.get(user_id = item, fields=\"bdate, education, personal, city\")\n",
        "    getUser_friend = vk.friends.get(user_id = item)\n",
        "\n",
        "    dataAll[item][\"info\"] = getUser_info[0]\n",
        "    dataAll[item][\"info\"][\"count_friends\"] = getUser_friend[\"count\"]\n",
        "\n",
        "    grp_ids = \"\"\n",
        "\n",
        "    for i in range(min(20,len(getUser_sub[\"groups\"][\"items\"]))):   \n",
        "      grp_ids += str(getUser_sub[\"groups\"][\"items\"][i]) + \",\"\n",
        "\n",
        "    grp_ids = grp_ids[:-1]\n",
        "\n",
        "    try:\n",
        "      getCom = vk.groups.getById(group_ids = grp_ids, fields='activity')\n",
        "      for i in range(len(getCom)):\n",
        "        dataAll[item][\"publics\"][getUser_sub[\"groups\"][\"items\"][i]] = getCom[i][\"activity\"]\n",
        "    except:\n",
        "     for i in range(len(getCom)):\n",
        "        dataAll[item][\"publics\"][getUser_sub[\"groups\"][\"items\"][i]] = \"Сайты\"\n",
        "\n",
        "    dataAll[item][\"info\"][\"count_publics\"] = getUser_sub[\"groups\"][\"count\"]\n",
        "\n",
        "    dataAll[item][\"friends\"] = dataFriends[item]\n",
        "\n",
        "with open('data_all.json', 'w') as outfile:\n",
        "    json.dump(dataAll, outfile, ensure_ascii=False)"
      ],
      "metadata": {
        "id": "BXSV-zO6wA8W"
      },
      "execution_count": null,
      "outputs": []
    },
    {
      "cell_type": "code",
      "source": [
        "with open(\"data_all.json\", \"r\") as infile:\n",
        "        data = infile.read()\n",
        "\n",
        "dataAll = json.loads(data)"
      ],
      "metadata": {
        "id": "kJgeltLAPaD_"
      },
      "execution_count": null,
      "outputs": []
    },
    {
      "cell_type": "code",
      "source": [
        "for pubItem in dataAll:\n",
        "  for item in dataAll:\n",
        "\n",
        "    dataAll[item][\"param\"] = {}\n",
        "\n",
        "    dataAll[item][\"param\"][\"Th\"] = 100/(0.6*dataAll[item][\"info\"][\"count_friends\"] \\\n",
        "                                                 + 0.4*dataAll[item][\"info\"][\"count_publics\"])\n",
        "    dataAll[item][\"param\"][\"type\"] = pre_qualimetric(dataAll[item], getCityBig, getUni_list, getType)"
      ],
      "metadata": {
        "id": "Sz5TWy9uwnkc"
      },
      "execution_count": null,
      "outputs": []
    },
    {
      "cell_type": "code",
      "source": [
        "with open('data_all.json', 'w') as outfile:\n",
        "    json.dump(dataAll, outfile, ensure_ascii=False)"
      ],
      "metadata": {
        "id": "YMZ5mfEePtPu"
      },
      "execution_count": null,
      "outputs": []
    },
    {
      "cell_type": "code",
      "source": [
        "with open(\"data_all.json\", \"r\") as infile:\n",
        "        data_json = infile.read()\n",
        "data_json= json.loads(data_json)\n",
        "type(data_json)\n",
        "\n",
        "#для тестовой выборки\n",
        "Th = []\n",
        "mem = []\n",
        "disc = []\n",
        "\n",
        "for item in data_json:\n",
        "  Th.append(data_json[item][\"param\"][\"Th\"])\n",
        "  if data_json[item][\"param\"][\"type\"] == \"аналитик\":\n",
        "    mem.append(3)\n",
        "    disc.append(0.7)\n",
        "  else:\n",
        "    mem.append(1)\n",
        "    disc.append(1)\n",
        "\n",
        "c = Counter(mem)\n",
        "c"
      ],
      "metadata": {
        "id": "TUu6kb2xEdhO",
        "colab": {
          "base_uri": "https://localhost:8080/"
        },
        "outputId": "14da6745-f44b-4660-eb0b-bae35548a06d"
      },
      "execution_count": null,
      "outputs": [
        {
          "output_type": "execute_result",
          "data": {
            "text/plain": [
              "Counter({1: 126, 3: 2})"
            ]
          },
          "metadata": {},
          "execution_count": 54
        }
      ]
    },
    {
      "cell_type": "markdown",
      "source": [
        "#Draft"
      ],
      "metadata": {
        "id": "mHAy_RYYrNJB"
      }
    },
    {
      "cell_type": "code",
      "source": [
        "def processingData(firstCom, secondCom, vk):\n",
        "\n",
        "    #чтение файла json\n",
        "    with open(\"data_1.json\", \"r\") as infile:\n",
        "        data = infile.read()\n",
        "\n",
        "    dataFriends = json.loads(data)\n",
        "\n",
        "    R = []\n",
        "\n",
        "    #определение длины каждого словаря\n",
        "    lenFirst = len(dataFriends[firstCom])\n",
        "    lenSecond = len(dataFriends[secondCom])\n",
        "    lenCommon = len(dataFriends[\"commonCom\"])\n",
        " \n",
        "    lenTotal = lenFirst + lenSecond + lenCommon + 2\n",
        "\n",
        "    for i in range(lenTotal):\n",
        "        e = np.zeros(lenTotal)\n",
        "        R.append(e)\n",
        "\n",
        "    print(lenFirst)\n",
        "    print(lenSecond)\n",
        "    print(lenCommon)\n",
        "\n",
        "\n",
        "    print(len(R[0]))\n",
        "    idsFirst = [*dataFriends[firstCom]]\n",
        "    idsSecond = [*dataFriends[secondCom]]\n",
        "    idsCommon = [*dataFriends[\"commonCom\"]]\n",
        "\n",
        "    #определение связей между сообществами и пользователями\n",
        "    for i in range(lenTotal):\n",
        "      if i != 0 and i < lenFirst + 1 + lenCommon:\n",
        "        R[0][i] = 2\n",
        "\n",
        "      if (i >= lenFirst + 1) and (i != lenFirst + 1 + lenCommon):\n",
        "        R[lenFirst + 1 + lenCommon][i] = 2\n",
        "\n",
        "    # есть ли пользователи 1го сообщества во 2м \n",
        "    for i in range(len(idsFirst)):\n",
        "      if vk.groups.isMember(group_id = secondCom, user_id = idsFirst[i]):\n",
        "        R[lenFirst + 1 + lenCommon][i+1]=1\n",
        "    # есть ли пользователи общего сообщества во 2м \n",
        "    for i in range(len(idsCommon)):\n",
        "      if vk.groups.isMember(group_id = secondCom, user_id = idsCommon[i]):\n",
        "        R[lenFirst + 1 + lenCommon][i+1+lenFirst]=1\n",
        "    # есть ли пользователи 2го сообщества во 1м \n",
        "    for i in range(len(idsSecond)):\n",
        "      if vk.groups.isMember(group_id = firstCom, user_id = idsSecond[i]):\n",
        "        R[0][i+1+lenFirst + lenCommon]=1\n",
        "    # есть ли пользователи общего сообщества во 2м \n",
        "    for i in range(len(idsCommon)):\n",
        "      if vk.groups.isMember(group_id = firstCom, user_id = idsCommon[i]):\n",
        "        R[0][i+1+lenFirst]=1\n",
        "\n",
        "\n",
        "    #определение связей между пользователями первого сообщества\n",
        "    \n",
        "    for i in range(len(idsFirst)):\n",
        "      for j in range(i, len(idsFirst)):\n",
        "        for k in range(len(dataFriends[firstCom][idsFirst[j]])):\n",
        "          if int(idsFirst[i]) == dataFriends[firstCom][idsFirst[j]][k]:\n",
        "            R[i+1][j+1] = 1\n",
        "            R[j+1][i+1] = 1\n",
        "          \n",
        "    #определение связей между пользователями второго сообщества\n",
        "    \n",
        "    for i in range(len(idsSecond)):\n",
        "      for j in range(i, len(idsSecond)):\n",
        "        for k in range(len(dataFriends[secondCom][idsSecond[j]])):\n",
        "          if int(idsSecond[i]) == dataFriends[secondCom][idsSecond[j]][k]:\n",
        "            R[i+2 + lenFirst + lenCommon][j+2 + lenFirst + lenCommon] = 1\n",
        "            R[j+2 + lenFirst + lenCommon][i+2 + lenFirst + lenCommon] = 1\n",
        "\n",
        "    #определение связей между одинаковыми пользователями    \n",
        "    for i in range(len(idsCommon)):\n",
        "      for j in range(i, len(idsCommon)):\n",
        "        for k in range(len(dataFriends[\"commonCom\"][idsCommon[j]])):\n",
        "          if int(idsCommon[i]) == dataFriends[\"commonCom\"][idsCommon[j]][k]:\n",
        "            R[i+1 + lenFirst][j+1 + lenFirst] = 1\n",
        "            R[j+1 + lenFirst][i+1 + lenFirst] = 1\n",
        "\n",
        "    #определение связей между первым сообществом и общими\n",
        "    for i in range(len(idsFirst)):\n",
        "      for j in range(len(idsCommon)):\n",
        "        for k in range(len(dataFriends[\"commonCom\"][idsCommon[j]])):\n",
        "          if int(idsFirst[i]) == dataFriends[\"commonCom\"][idsCommon[j]][k]:\n",
        "            R[i+1][j+1+lenFirst] = 1\n",
        "            R[j+1+lenFirst][i+1] = 1\n",
        "\n",
        "    #определение связей между первым и вторым сообществами\n",
        "    for i in range(len(idsFirst)): #от 0 до длины F\n",
        "      for j in range(len(idsSecond)): #от 0 до длины S\n",
        "        for k in range(len(dataFriends[secondCom][idsSecond[j]])): #от 0 до длины друзей у польз. второго сообщ.\n",
        "          if int(idsFirst[i]) == dataFriends[secondCom][idsSecond[j]][k]: #если пользователь F равен id другу пользователя S\n",
        "            R[j+2+lenFirst+lenCommon][i+1] = 1\n",
        "            R[i+1][j+2+lenFirst+lenCommon] = 1 \n",
        "\n",
        "    #определение связей между вторым сообществом и общими\n",
        "    for i in range(len(idsSecond)):\n",
        "      for j in range(len(idsCommon)):\n",
        "        for k in range(len(dataFriends[\"commonCom\"][idsCommon[j]])):\n",
        "          if int(idsSecond[i]) == dataFriends[\"commonCom\"][idsCommon[j]][k]:\n",
        "            R[i+2+lenFirst+lenCommon][j+1+lenFirst] = 1\n",
        "            R[j+1+lenFirst][i+2+lenFirst+lenCommon] = 1\n",
        "\n",
        "\n",
        "    return R, lenTotal, lenFirst, lenCommon"
      ],
      "metadata": {
        "id": "QpvFoACfHPYg"
      },
      "execution_count": null,
      "outputs": []
    },
    {
      "cell_type": "code",
      "source": [
        "import random as ran"
      ],
      "metadata": {
        "id": "zTY8l3ny66-A"
      },
      "execution_count": null,
      "outputs": []
    },
    {
      "cell_type": "code",
      "source": [
        "n = 32\n",
        "st = []\n",
        "\n",
        "for i in range(n):\n",
        "  g = []\n",
        "  p = []\n",
        "  y = []\n",
        "  p_sum = 0\n",
        "\n",
        "  h = ran.betavariate(0.1, 0.1)\n",
        "  while h < 0.1 or h >0.9 and h > 0.6:\n",
        "      h = ran.betavariate(0.1, 0.1)\n",
        "  g.append(h)\n",
        "  g.append(1-h)\n",
        "\n",
        "  st.append(g) \n",
        "for i in range(len(st)):\n",
        "  print(st[i])"
      ],
      "metadata": {
        "colab": {
          "base_uri": "https://localhost:8080/"
        },
        "id": "BYnU_oPM6uxy",
        "outputId": "977366ae-44b2-4a75-b48c-e53d2fd648cd"
      },
      "execution_count": null,
      "outputs": [
        {
          "output_type": "stream",
          "name": "stdout",
          "text": [
            "[0.23181948554537862, 0.7681805144546214]\n",
            "[0.2627321650647504, 0.7372678349352496]\n",
            "[0.3594784604454999, 0.6405215395545001]\n",
            "[0.1705609418876453, 0.8294390581123547]\n",
            "[0.3330058256840025, 0.6669941743159975]\n",
            "[0.18979126440991362, 0.8102087355900864]\n",
            "[0.21680366428404166, 0.7831963357159584]\n",
            "[0.8388149275911996, 0.16118507240880042]\n",
            "[0.3130948776680445, 0.6869051223319556]\n",
            "[0.1485099779603098, 0.8514900220396902]\n",
            "[0.3245991675093053, 0.6754008324906947]\n",
            "[0.5561441809543343, 0.44385581904566573]\n",
            "[0.5403794918929864, 0.4596205081070136]\n",
            "[0.5681164474250254, 0.43188355257497457]\n",
            "[0.6671752257962454, 0.33282477420375456]\n",
            "[0.6071808398979864, 0.39281916010201356]\n",
            "[0.24777745128055045, 0.7522225487194496]\n",
            "[0.32767774576282094, 0.6723222542371791]\n",
            "[0.8123378610558465, 0.1876621389441535]\n",
            "[0.5069577994891717, 0.49304220051082825]\n",
            "[0.10305654779669746, 0.8969434522033025]\n",
            "[0.2533770132889029, 0.7466229867110972]\n",
            "[0.3346765366062229, 0.6653234633937771]\n",
            "[0.5697416418307206, 0.4302583581692794]\n",
            "[0.14172347864941995, 0.8582765213505801]\n",
            "[0.40467866260194385, 0.5953213373980561]\n",
            "[0.8483912164308129, 0.15160878356918706]\n",
            "[0.7741248545531925, 0.22587514544680753]\n",
            "[0.13651745567394577, 0.8634825443260542]\n",
            "[0.691244007830283, 0.30875599216971705]\n",
            "[0.24599688841729359, 0.7540031115827064]\n",
            "[0.8124768094392296, 0.18752319056077038]\n"
          ]
        }
      ]
    },
    {
      "cell_type": "code",
      "source": [
        "s = \"0.7\"\n",
        "s.replace\n",
        "s1 = float(s.replace(\",\", \".\"))\n",
        "print(s1)"
      ],
      "metadata": {
        "colab": {
          "base_uri": "https://localhost:8080/"
        },
        "id": "05OHlW5-dSSQ",
        "outputId": "7bbc2e47-e391-4553-f36b-25784fb54e23"
      },
      "execution_count": null,
      "outputs": [
        {
          "output_type": "stream",
          "name": "stdout",
          "text": [
            "0.7\n"
          ]
        }
      ]
    }
  ]
}